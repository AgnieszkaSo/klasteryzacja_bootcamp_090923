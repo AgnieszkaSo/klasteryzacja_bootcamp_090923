{
 "cells": [
  {
   "cell_type": "markdown",
   "id": "eba26d29-3270-43d9-9044-19afdac0c4be",
   "metadata": {
    "tags": []
   },
   "source": [
    "## Wczytanie bibliotek"
   ]
  },
  {
   "cell_type": "code",
   "execution_count": 20,
   "id": "9dcfb05a-d683-43a3-ba61-0aa66d65ef59",
   "metadata": {
    "tags": []
   },
   "outputs": [],
   "source": [
    "import pandas as pd\n",
    "import matplotlib.pyplot as plt\n",
    "import numpy as np\n",
    "from sklearn.datasets import make_blobs, make_moons, load_iris, make_swiss_roll\n",
    "from sklearn.model_selection import train_test_split\n",
    "\n",
    "%matplotlib inline"
   ]
  },
  {
   "cell_type": "markdown",
   "id": "58491d31-8c10-43e1-8dd1-4e5515697cbe",
   "metadata": {},
   "source": [
    "# Grupowanie k-średnich"
   ]
  },
  {
   "cell_type": "markdown",
   "id": "e0df6d4a-8619-4f0f-850d-7d0985e6dddf",
   "metadata": {
    "tags": []
   },
   "source": [
    "### Przykład 1: jednorodne grupy z rozkładu normalnego"
   ]
  },
  {
   "cell_type": "markdown",
   "id": "79462165-b186-4dec-b03b-5ffbbd2a24b7",
   "metadata": {},
   "source": [
    "Dla danych jednorodne grupy z rozkładu normalnego wykonaj grupowanie k-średnich dla k=3 i \n",
    "przedstaw wyniki na wykresie. Na wykres nanieś także środki znalezionych klastrów.\n",
    "Sprawdź jak dane zostaną pogrupowane dla k=2 i k=5. "
   ]
  },
  {
   "cell_type": "code",
   "execution_count": 5,
   "id": "2bdb5277-35b9-4ad3-ba0f-f239cc258b6f",
   "metadata": {
    "tags": []
   },
   "outputs": [],
   "source": [
    "rng = np.random.default_rng(seed = 7)\n",
    "X = np.vstack([rng.multivariate_normal([0, 0], [[1,0], [0,1]], 50),\n",
    "                         rng.multivariate_normal([3,8], [[1,0], [0,1]], 50),\n",
    "                         rng.multivariate_normal([6,4], [[1,0], [0,1]], 50)])"
   ]
  },
  {
   "cell_type": "markdown",
   "id": "6a0fe17a-adea-4805-a106-6430ba94e3a4",
   "metadata": {},
   "source": [
    "https://scikit-learn.org/stable/modules/generated/sklearn.cluster.KMeans.html"
   ]
  },
  {
   "cell_type": "markdown",
   "id": "7d9ada61-5c6e-4164-89ba-4777b5cc3c6d",
   "metadata": {
    "tags": []
   },
   "source": [
    "### Ćwiczenie 1: jednorodne grupy z rozkładu normalnego 2"
   ]
  },
  {
   "cell_type": "markdown",
   "id": "7b34afec-5907-4db4-97b1-18263b31f98c",
   "metadata": {},
   "source": [
    "Wygeneruj poniższe dane i wykonaj grupowanie k-średnich. Zwizualizuj wyniki."
   ]
  },
  {
   "cell_type": "code",
   "execution_count": 7,
   "id": "22dc9ffc-cf16-446a-a624-090357093e58",
   "metadata": {
    "tags": []
   },
   "outputs": [],
   "source": [
    "rng = np.random.default_rng(seed = 7)\n",
    "X = np.vstack([rng.multivariate_normal([0, 0], [[1,0], [0,1]], 30),\n",
    "                         rng.multivariate_normal([-5,-5], [[1,0], [0,1]], 30),\n",
    "                         rng.multivariate_normal([5,5], [[1,0], [0,1]], 30),\n",
    "                         rng.multivariate_normal([4,-2], [[1,0], [0,1]], 30)])"
   ]
  },
  {
   "cell_type": "markdown",
   "id": "58693ccd-900b-4fa7-a1a2-037f0bd56d22",
   "metadata": {},
   "source": [
    "### Przykład 2: skalowanie danych"
   ]
  },
  {
   "cell_type": "markdown",
   "id": "9d8d72e8-10ae-4aa5-bc65-2c294f1c20a7",
   "metadata": {},
   "source": [
    "Wygeneruj poniższe dane i wykonaj grupowanie k-średnich. Zwizualizuj wyniki."
   ]
  },
  {
   "cell_type": "code",
   "execution_count": 8,
   "id": "7af18f54-d3b0-4de0-9c8f-f72fcfa9c425",
   "metadata": {
    "tags": []
   },
   "outputs": [],
   "source": [
    "rng = np.random.default_rng(seed = 7)\n",
    "X = np.vstack([rng.multivariate_normal([0, 0], [[1,0], [0,300]], 30),\n",
    "                         rng.multivariate_normal([-8,-8], [[1,0], [0,200]], 30)])"
   ]
  },
  {
   "cell_type": "markdown",
   "id": "923f04ac-2039-42eb-889a-7b8b086cbce5",
   "metadata": {},
   "source": [
    "### Ćwiczenie 2: awarie k-średnich"
   ]
  },
  {
   "cell_type": "markdown",
   "id": "e4c94fcf-04fd-43f1-90ae-6f9a339bac45",
   "metadata": {},
   "source": [
    "Dla danych X1 i X2 wykonaj skalowanie i grupowanie k-średnich dla odpowiedniej liczby grup. Zwizualizuj wyniki. Dlaczego algorytm k-średnich nie poradził sobie z grupowaniem?"
   ]
  },
  {
   "cell_type": "code",
   "execution_count": 15,
   "id": "6e892589-1442-45fe-9ed1-bb64392633d7",
   "metadata": {
    "tags": []
   },
   "outputs": [],
   "source": [
    "noisy_moons = make_moons(n_samples = 500, noise = 0.05)\n",
    "varied_normal = make_blobs(n_samples = 500, cluster_std = [1.0, 2.5, 0.5], random_state = 170)\n",
    "X1 = noisy_moons[0]\n",
    "X2 = varied_normal[0]"
   ]
  },
  {
   "cell_type": "markdown",
   "id": "3ed6c80f-d928-4372-b3d0-42689938356e",
   "metadata": {},
   "source": [
    "Obejrzyj inne przykładowe zbiory danych i sprawdź jak radzi sobie z nimi algorytm k-średnich (MiniBatch Kmeans). "
   ]
  },
  {
   "cell_type": "markdown",
   "id": "8a237376-24ee-4a03-a150-66536979cdad",
   "metadata": {},
   "source": [
    "https://scikit-learn.org/stable/auto_examples/cluster/plot_cluster_comparison.html"
   ]
  },
  {
   "cell_type": "markdown",
   "id": "f46e7877-d1f4-40d8-9282-c264fe051225",
   "metadata": {
    "tags": []
   },
   "source": [
    "## Wybór k w k-średnich"
   ]
  },
  {
   "cell_type": "markdown",
   "id": "2a5faf65-3a77-4587-b885-fc88b1499624",
   "metadata": {},
   "source": [
    "### Przykład 3: Irysy"
   ]
  },
  {
   "cell_type": "markdown",
   "id": "e820004b-b628-408e-a1ff-1148f081d7fd",
   "metadata": {},
   "source": [
    "Dla danych Irysy znajdź liczbę klastrów i wykonaj grupowanie k-średnich. Zwizualizuj wyniki."
   ]
  },
  {
   "cell_type": "markdown",
   "id": "0e3210de-fbd8-4af3-b055-613275d4f633",
   "metadata": {},
   "source": [
    "https://en.wikipedia.org/wiki/Iris_flower_data_set\n",
    "\n",
    "https://www.math.umd.edu/~petersd/666/html/iris_pca.html"
   ]
  },
  {
   "cell_type": "code",
   "execution_count": 17,
   "id": "e0d6d678-51bc-4189-b170-0b6d7674f024",
   "metadata": {
    "tags": []
   },
   "outputs": [],
   "source": [
    "iris = load_iris()"
   ]
  },
  {
   "cell_type": "markdown",
   "id": "3c955e33-d644-422e-9272-8ffb3d93550a",
   "metadata": {},
   "source": [
    "### Ćwiczenie 3: jednorodne grupy z rozkładu normalnego"
   ]
  },
  {
   "cell_type": "markdown",
   "id": "8aad3101-f4b9-40bc-a9d7-2acfa24cb268",
   "metadata": {},
   "source": [
    "Dla danych Irysy znajdź liczbę klastrów i wykonaj grupowanie k-średnich. Zwizualizuj wyniki."
   ]
  },
  {
   "cell_type": "code",
   "execution_count": 18,
   "id": "141a7667-8f32-481c-9103-e69d3ea1711f",
   "metadata": {
    "tags": []
   },
   "outputs": [],
   "source": [
    "rng = np.random.default_rng(seed = 7)\n",
    "X = np.vstack([rng.multivariate_normal([0, 0], [[1,0], [0,1]], 50),\n",
    "                         rng.multivariate_normal([3,8], [[1,0], [0,1]], 50),\n",
    "                         rng.multivariate_normal([6,4], [[1,0], [0,1]], 50)])"
   ]
  },
  {
   "cell_type": "markdown",
   "id": "652f5cb2-5471-4f33-b3b0-c61318e76ba5",
   "metadata": {},
   "source": [
    "### Przykład 4: grupowanie k-średnich jako dekompozycja"
   ]
  },
  {
   "cell_type": "markdown",
   "id": "0663b4e9-8eb5-441a-9281-b4dfb9c02903",
   "metadata": {},
   "source": [
    "Interesujące podobieństwo k-średnich i np. PCA. PCA ma przedstawić punkty jako sumę składników maksymalizującą wariancję. \n",
    "Algorytm k-średnich próbuje przedstawić punkty jako centrum klastra. "
   ]
  },
  {
   "cell_type": "markdown",
   "id": "1fe81cea-90b7-4063-94f8-3a7ae4c8b3b5",
   "metadata": {},
   "source": [
    "W tym przykładzie przekształcimy dane make moons za pomocą klasteryzacji k-średnich \n",
    "tak żeby prosty klasyfikator liniowy\n",
    "(regresja logistyczna) lepiej separował klasy."
   ]
  },
  {
   "cell_type": "code",
   "execution_count": 21,
   "id": "ba929df2-6f23-4354-b815-b2fd59598903",
   "metadata": {
    "tags": []
   },
   "outputs": [],
   "source": [
    "X, y = make_moons(n_samples = 300, noise = 0.15, random_state = 7)\n",
    "X_train, X_test, y_train, y_test = train_test_split(X, y, stratify = y, random_state = 7)"
   ]
  },
  {
   "cell_type": "markdown",
   "id": "3fb9ff7b-c857-431b-ab60-79b0a7e0ce76",
   "metadata": {},
   "source": [
    "### Ćwiczenie 4: dekompozycja k-średnich poprawia działanie regresji logistycznej \n",
    "Zbuduj modele regresji logistycznej na danych oryginalnych oraz na nowym zbiorze z przykładu 4. Porównaj\n",
    "dokładność modeli za pomocą fcji score na danych treningowych i testowych."
   ]
  },
  {
   "cell_type": "markdown",
   "id": "b71e6369-23ce-42c7-aaf5-b2804902fdd6",
   "metadata": {},
   "source": [
    "## Grupowanie aglomeracyjne"
   ]
  },
  {
   "cell_type": "markdown",
   "id": "3ae8846d-ee97-4331-bfd3-c3ca9018419a",
   "metadata": {},
   "source": [
    "### Przykład 1: ilustracja działania algorytmu"
   ]
  },
  {
   "cell_type": "code",
   "execution_count": 22,
   "id": "55e2fc3f-459b-4523-bf68-3480b7aa00ae",
   "metadata": {
    "tags": []
   },
   "outputs": [],
   "source": [
    "X = np.array([[1,1], [1,2.5], [2,2], [4,4], [5,2], [5.5,4.5], [6,2], [6,4]])"
   ]
  },
  {
   "cell_type": "markdown",
   "id": "775ed385-9929-4a13-829f-152cbfc15ac3",
   "metadata": {},
   "source": [
    "https://docs.scipy.org/doc/scipy/reference/generated/scipy.cluster.hierarchy.linkage.html"
   ]
  },
  {
   "cell_type": "markdown",
   "id": "4fba36cb-66a1-4c4b-a959-275182256fd4",
   "metadata": {},
   "source": [
    "https://docs.scipy.org/doc/scipy/reference/generated/scipy.cluster.hierarchy.fcluster.html"
   ]
  },
  {
   "cell_type": "markdown",
   "id": "a7dffd13-feb7-4066-901b-7e298ec25629",
   "metadata": {},
   "source": [
    "### Ćwiczenie 1: przykłady ilustrujące metody przeliczania odległości"
   ]
  },
  {
   "cell_type": "markdown",
   "id": "098136bc-34e1-4dd4-835a-68009ac84ce9",
   "metadata": {},
   "source": [
    "Dla wygenerowanych danych wykonaj klasteryzację hierarchiczną dla metod Single, Complete, Average i Ward. \n",
    "Narysuj wyniki grupowań i porównaj wyniki. Pamiętaj o skalowaniu danych!"
   ]
  },
  {
   "cell_type": "code",
   "execution_count": 25,
   "id": "28a2b2bb-ecb7-4a8e-bcc1-967114974ea8",
   "metadata": {
    "tags": []
   },
   "outputs": [],
   "source": [
    "X1 = make_blobs(n_samples=[50, 20], n_features=2, centers=[[2,2], [7,2]], cluster_std=[.75,.4], random_state = 7)[0]"
   ]
  },
  {
   "cell_type": "code",
   "execution_count": 26,
   "id": "39be8e9c-5f71-4026-ae36-08c5662c7b2c",
   "metadata": {
    "tags": []
   },
   "outputs": [],
   "source": [
    "X2 = np.vstack([make_blobs(n_samples=[50, 20], n_features=2, centers=[[2,2], [7,2]], cluster_std=[.75,.4], random_state = 7)[0],\n",
    "              np.vstack([np.linspace(2,7,10), np.ones(10)*2]).T])"
   ]
  },
  {
   "cell_type": "code",
   "execution_count": 27,
   "id": "1292f198-b957-4301-9e5c-ad819aad06a3",
   "metadata": {
    "tags": []
   },
   "outputs": [],
   "source": [
    "noisy_moons = make_moons(n_samples = 500, noise=0.05)\n",
    "varied_normal = make_blobs(n_samples = 500, cluster_std=[1.0, 2.5, 0.5], random_state = 170)\n",
    "X3 = noisy_moons[0]\n",
    "X4 = varied_normal[0]"
   ]
  },
  {
   "cell_type": "markdown",
   "id": "0825d8da-b18b-4581-83ad-5463c10176f4",
   "metadata": {},
   "source": [
    "https://scikit-learn.org/stable/auto_examples/cluster/plot_linkage_comparison.html"
   ]
  },
  {
   "cell_type": "markdown",
   "id": "fe087788-9af4-4cdc-833b-9048355344e3",
   "metadata": {},
   "source": [
    "### Ćwiczenie 2: Irysy"
   ]
  },
  {
   "cell_type": "markdown",
   "id": "3d01e7c9-3a5d-4c49-8732-81879bbe35c9",
   "metadata": {},
   "source": [
    "Dla danych Irysy wykonaj klasteryzację hierarchiczną dla metod Single, Complete, Average i Ward. \n",
    "Wybierz liczbę klastrów, narysuj wyniki grupowań i porównaj wyniki. Pamiętaj o skalowaniu danych!"
   ]
  },
  {
   "cell_type": "code",
   "execution_count": 28,
   "id": "e40b34f2-8c58-4abc-81b6-727c5d04e2b6",
   "metadata": {
    "tags": []
   },
   "outputs": [],
   "source": [
    "iris = load_iris()"
   ]
  },
  {
   "cell_type": "markdown",
   "id": "fa6cd847-f763-498f-ab67-8c57e1ca228e",
   "metadata": {},
   "source": [
    "### Przykład 2: Grupowanie z ograniczeniami"
   ]
  },
  {
   "cell_type": "markdown",
   "id": "b9678b34-b4a4-4620-a4ff-f31a81b43321",
   "metadata": {},
   "source": [
    "Przykład pokazuje jak wprowadzenie ograniczeń na połączenia obserwacji w klastry może wpływać na wynik grupowania."
   ]
  },
  {
   "cell_type": "code",
   "execution_count": 29,
   "id": "7885b67b-bd7f-4863-9b39-cce834cde58f",
   "metadata": {
    "tags": []
   },
   "outputs": [],
   "source": [
    "X = make_swiss_roll(1500, noise = .05)[0]\n",
    "# odchudzanie rolki\n",
    "X[:, 1] *= 0.5"
   ]
  },
  {
   "cell_type": "markdown",
   "id": "00c3fa8d-b3ff-41c7-9b37-0408b641a269",
   "metadata": {},
   "source": [
    "https://scikit-learn.org/stable/modules/generated/sklearn.cluster.AgglomerativeClustering.html"
   ]
  },
  {
   "cell_type": "markdown",
   "id": "ea6dc8e3-db16-46b4-9cfb-6bb2fa89e82b",
   "metadata": {},
   "source": [
    "## DBSCAN"
   ]
  },
  {
   "cell_type": "markdown",
   "id": "8b9ea12a-9ee1-42aa-93fd-1bf4c5b88d05",
   "metadata": {
    "tags": []
   },
   "source": [
    "### Przykład 1: małe dane blobs"
   ]
  },
  {
   "cell_type": "markdown",
   "id": "66a0f597-5e56-4fcb-a799-74c3e2234382",
   "metadata": {},
   "source": [
    "Dla wygenerowanych danych wykonaj grupowanie DBSCAN."
   ]
  },
  {
   "cell_type": "code",
   "execution_count": 30,
   "id": "db11cfc2-d5e6-4f29-b174-980a8b5f45f6",
   "metadata": {
    "tags": []
   },
   "outputs": [],
   "source": [
    "X = make_blobs(random_state = 0, n_samples = 12)[0]"
   ]
  },
  {
   "cell_type": "markdown",
   "id": "a517cb16-16f3-4632-b9fe-7e7c1598eef7",
   "metadata": {},
   "source": [
    "https://scikit-learn.org/stable/modules/generated/sklearn.cluster.DBSCAN.html"
   ]
  },
  {
   "cell_type": "markdown",
   "id": "48e68b67-93e6-4280-a961-a5f0a4f01599",
   "metadata": {
    "tags": []
   },
   "source": [
    "### Przykład 1 c.d.: zależność algorytmu od parametrów min_samples i eps"
   ]
  },
  {
   "cell_type": "markdown",
   "id": "543ffe0f-0b18-4b8b-8e65-a419b833f343",
   "metadata": {},
   "source": [
    "Dla min_samples = [2, 3, 5] oraz eps = [1, 1.5, 2, 3] wykonaj klasteryzację DBSCAN, narysuj wyniki na wykresach i przeanalizuj wpływ parametrów na działanie algorytmu."
   ]
  },
  {
   "cell_type": "markdown",
   "id": "277de29c-1587-44eb-80fc-222d37206516",
   "metadata": {},
   "source": [
    "### Ćwiczenie 1: dane noisy moons i varied normal"
   ]
  },
  {
   "cell_type": "markdown",
   "id": "3984e24b-cb5e-47c8-9d4e-c36c577ec11f",
   "metadata": {},
   "source": [
    "Dla poniższych zbiorów danych noisy moons i varied normal wykonaj klastrowanie DBSCAN i zwizualizuj wyniki. Użyj różnych parametrów min_samples i eps i porównaj wyniki. Pamiętaj o skalowaniu danych!"
   ]
  },
  {
   "cell_type": "code",
   "execution_count": 33,
   "id": "e66bda59-8582-4906-9f32-97a734567cea",
   "metadata": {
    "tags": []
   },
   "outputs": [],
   "source": [
    "noisy_moons = make_moons(n_samples = 500, noise=0.05)\n",
    "varied_normal = make_blobs(n_samples = 500, cluster_std=[1.0, 2.5, 0.5], random_state = 170)\n",
    "X1 = noisy_moons[0]\n",
    "X2 = varied_normal[0]"
   ]
  },
  {
   "cell_type": "markdown",
   "id": "7f99e610-99d2-4689-ab76-1ee964bac358",
   "metadata": {},
   "source": [
    "### Przykład 2: metoda wyboru eps"
   ]
  },
  {
   "cell_type": "markdown",
   "id": "6a1a3099-a550-4093-b982-3dd29750e677",
   "metadata": {},
   "source": [
    "Wybierz parametr eps dla danych varied normal za pomocą wykresu łokcia dla odległości do\n",
    "k najbliższych sąsiadów."
   ]
  },
  {
   "cell_type": "markdown",
   "id": "42371ac0-a130-4c72-b6d4-6a89c31a8e79",
   "metadata": {},
   "source": [
    "### Ćwiczenie 2: Irysy"
   ]
  },
  {
   "cell_type": "markdown",
   "id": "66e09d30-6fc2-470e-9d78-380af8d703b9",
   "metadata": {},
   "source": [
    "Dla danych Irysy wykonaj grupowanie DBSCAN i dobierz parametry modelu. Przedstaw wyniki na wykresie."
   ]
  },
  {
   "cell_type": "markdown",
   "id": "896bb5df-cf5c-4d8c-9406-0322ea1f1232",
   "metadata": {},
   "source": [
    "https://scikit-learn.org/stable/modules/clustering.html"
   ]
  },
  {
   "cell_type": "markdown",
   "id": "c275905e-5859-461c-9357-98dc934330b9",
   "metadata": {},
   "source": [
    "## Źródła:"
   ]
  },
  {
   "cell_type": "markdown",
   "id": "d86a2ded-2c40-4ec8-ba5f-443b9d2cb2f3",
   "metadata": {},
   "source": [
    "Hastie, Trevor, et al. The elements of statistical learning: data mining, inference, and prediction. Vol. 2. New York: springer, 2009.\n",
    "\n",
    "Muller, Andreas, et al. Machine learning, Python i data science, Wprowadzenie. Helion, 2021.\n",
    "\n",
    "http://www.sefidian.com/2020/12/18/how-to-determine-epsilon-and-minpts-parameters-of-dbscan-clustering/\n",
    "\n",
    "https://www.learndatasci.com/glossary/hierarchical-clustering/\n",
    "\n",
    "https://towardsdatascience.com/understanding-the-concept-of-hierarchical-clustering-technique-c6e8243758ec\n",
    "\n",
    "https://jakevdp.github.io/PythonDataScienceHandbook/05.11-k-means.html\n",
    "\n",
    "https://pbiecek.github.io/NaPrzelajDataMiningR/part-3.html#part_31\n"
   ]
  },
  {
   "cell_type": "code",
   "execution_count": null,
   "id": "1d9f29ac-6169-4199-93bf-5b1520e9e43b",
   "metadata": {},
   "outputs": [],
   "source": []
  }
 ],
 "metadata": {
  "kernelspec": {
   "display_name": "Python 3 (ipykernel)",
   "language": "python",
   "name": "python3"
  },
  "language_info": {
   "codemirror_mode": {
    "name": "ipython",
    "version": 3
   },
   "file_extension": ".py",
   "mimetype": "text/x-python",
   "name": "python",
   "nbconvert_exporter": "python",
   "pygments_lexer": "ipython3",
   "version": "3.10.9"
  }
 },
 "nbformat": 4,
 "nbformat_minor": 5
}
