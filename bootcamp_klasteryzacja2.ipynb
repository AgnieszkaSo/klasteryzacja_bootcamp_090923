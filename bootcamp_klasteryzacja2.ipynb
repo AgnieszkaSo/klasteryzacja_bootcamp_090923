{
 "cells": [
  {
   "cell_type": "markdown",
   "id": "c1fb49fa-bba8-4972-a577-c3c53cafcbe5",
   "metadata": {},
   "source": [
    "## Wczytanie bibliotek"
   ]
  },
  {
   "cell_type": "code",
   "execution_count": 3,
   "id": "a5214128-5983-401a-ab7b-800edcad3cc9",
   "metadata": {
    "tags": []
   },
   "outputs": [],
   "source": [
    "import numpy as np  \n",
    "import pandas as pd\n",
    "from matplotlib import pyplot as plt\n",
    "from sklearn.datasets import make_blobs, make_moons, load_iris, load_digits\n",
    "%matplotlib inline"
   ]
  },
  {
   "cell_type": "markdown",
   "id": "e74b0867-7878-4872-8fd9-126d1ddbd5bd",
   "metadata": {},
   "source": [
    "# Porównanie i ocena algorytmów grupowania "
   ]
  },
  {
   "cell_type": "markdown",
   "id": "262a5441-23d1-46d4-bad5-91f91c21f605",
   "metadata": {
    "tags": []
   },
   "source": [
    "### Przykład 1: miary ARI, V-measure i współczynnik sylwetki dla danych two moons"
   ]
  },
  {
   "cell_type": "markdown",
   "id": "a1df29ae-2067-470d-936e-50cc28fd2a38",
   "metadata": {},
   "source": [
    "Dla danych two moons porównaj grupowanie k-średnich, aglomeracyjne i DBSCAN przy użyciu ARI, V-measure i współczynnika sylwetki. \n",
    "Porównaj wyniki także z losowym przypisaniem punktów do dwóch klastrów. Zwizualizuj wyniki."
   ]
  },
  {
   "cell_type": "code",
   "execution_count": 4,
   "id": "3b995366-5fc1-45b2-92f0-763a05e299e1",
   "metadata": {
    "tags": []
   },
   "outputs": [],
   "source": [
    "X, y = make_moons(n_samples = 200, noise = .05, random_state = 7)"
   ]
  },
  {
   "cell_type": "markdown",
   "id": "014bb526-e5e7-4919-baec-584f3c606279",
   "metadata": {},
   "source": [
    "### Ćwiczenie 1: miary ARI i V-measure dla danych Irysy"
   ]
  },
  {
   "cell_type": "markdown",
   "id": "26dc7344-a98f-41f2-be47-b03bffbcbbd3",
   "metadata": {},
   "source": [
    "Dla danych Irysy porównaj grupowania znalezione przez algorytmy grupowania k-średnich i aglomeracyjne\n",
    "za pomocą indeksu ARI i V-measure. Zwizualiuj wyniki."
   ]
  },
  {
   "cell_type": "code",
   "execution_count": 5,
   "id": "fce84f0f-fa24-4ef1-872b-2b30e5174ed1",
   "metadata": {
    "tags": []
   },
   "outputs": [],
   "source": [
    "iris = load_iris()\n",
    "y = iris.target"
   ]
  },
  {
   "cell_type": "markdown",
   "id": "d83c661f-2cc8-4d9c-8fdc-b9f7a46209f2",
   "metadata": {},
   "source": [
    "# Grupowanie danych mieszanych"
   ]
  },
  {
   "cell_type": "markdown",
   "id": "475785a3-53a1-4088-85ae-e95e7be6cab6",
   "metadata": {},
   "source": [
    "### Przykład 2: grupowanie danych mieszanych blobs za pomocą kodowania binarnego zmiennych kategorialnych"
   ]
  },
  {
   "cell_type": "markdown",
   "id": "9fde33b7-7cd9-42c7-aad6-523e3ae601cd",
   "metadata": {},
   "source": [
    "Dla danych blobs zakoduj zmienną kategorialną za pomocą zmiennych binarnych i zgrupuj dane za pomocą \n",
    "klateryzacji k-średnich z liczbą klastrów równą 3. Policz ARI i porównaj wynik klasteryzacji do klasteryzacji \n",
    "k-średnich tylko na zmiennych ciągłych.  "
   ]
  },
  {
   "cell_type": "code",
   "execution_count": 6,
   "id": "23204614-b0fa-4d09-97ed-674cb67a3b74",
   "metadata": {
    "tags": []
   },
   "outputs": [],
   "source": [
    "X, y = make_blobs(n_samples = 100, centers = 3, n_features = 3, center_box=[-6, 6], random_state = 1234)\n",
    "X = pd.DataFrame(X, columns=['X1', 'X2', 'X3'])\n",
    "X['X3'] = np.where(X['X3'] < -2, 'LOW', np.where(X['X3'] > 2, 'HIGH', 'MEDIUM'))"
   ]
  },
  {
   "cell_type": "markdown",
   "id": "87011d68-6999-4247-8687-798dae26983c",
   "metadata": {},
   "source": [
    "### Ćwiczenie 2: grupowanie danych mieszanych heart za pomocą kodowania binarnego zmiennych kategorialnych"
   ]
  },
  {
   "cell_type": "markdown",
   "id": "eea0b89f-36c1-4d22-bbfe-31c0a4041bb3",
   "metadata": {},
   "source": [
    "Dla danych heart zakoduj zmienne kategorialne za pomocą zmiennych binarnych i zgrupuj dane za pomocą \n",
    "klateryzacji k-średnich z liczbą klastrów równą 2. Policz ARI i porównaj wynik klasteryzacji do klasteryzacji \n",
    "k-średnich tylko na zmiennych ciągłych. Zaprezentuj wyniki lepszej metody na wykresie."
   ]
  },
  {
   "cell_type": "code",
   "execution_count": 7,
   "id": "0e39eeb6-4a46-4995-b150-ab5b73b18988",
   "metadata": {
    "tags": []
   },
   "outputs": [],
   "source": [
    "heart = pd.read_csv(\"heart.csv\")"
   ]
  },
  {
   "cell_type": "markdown",
   "id": "4f5b9fc5-1912-4a36-bba1-78871a096b74",
   "metadata": {},
   "source": [
    "Zbiór danych Cleveland Heart Disease pochodzi z repozytorium UCI machine learning. Zawiera 13 zmiennych, z czego 5 numerycznych i 8 kategorialnych. Liczba pacjentów jest równa 303, zmienną objaśnianą jest binarna zmienna mówiąca o obecności choroby serca. Kolumna target będzie nam służyła do oceny jakości grupowań.\n",
    "https://archive.ics.uci.edu/ml/datasets/heart+disease"
   ]
  },
  {
   "cell_type": "markdown",
   "id": "bcdbf1e9-4645-4c95-ab1c-9c3047b0475b",
   "metadata": {},
   "source": [
    "# Grupowanie dużych danych"
   ]
  },
  {
   "cell_type": "markdown",
   "id": "3d94115d-6261-4109-a94d-3b4b2b927cda",
   "metadata": {},
   "source": [
    "### Przykład 3: działanie algorytmu BIRCH i grupowania k-średnich na zbiorze danych blobs"
   ]
  },
  {
   "cell_type": "markdown",
   "id": "266a9c97-7210-4f39-ac18-e7d915e0005f",
   "metadata": {},
   "source": [
    "Dla danych blobs zastosuj w pierwszym kroku algorytm BIRCH, a następnie klasteryzację \n",
    "k-średnich. Porównaj wyniki z klasteryzacją k-średnich bez wstępnego grupowania za pomocą BIRCH\n",
    "oraz z grupowaniem BIRCH z zadaną liczbą klastrów. Sprawdź co się stanie jak w pierwszym kroku BIRCH wybierzesz threshold = 5."
   ]
  },
  {
   "cell_type": "code",
   "execution_count": 8,
   "id": "d23fc226-53bf-42cf-a30a-550062274623",
   "metadata": {
    "tags": []
   },
   "outputs": [],
   "source": [
    "X = make_blobs(n_samples = 2000, centers = 7, random_state = 7)[0]"
   ]
  },
  {
   "cell_type": "markdown",
   "id": "b9eb5f46-0e47-4988-a071-b9f1ed2e4417",
   "metadata": {},
   "source": [
    "https://scikit-learn.org/stable/modules/generated/sklearn.cluster.Birch.html"
   ]
  },
  {
   "cell_type": "markdown",
   "id": "b1b5246e-d654-452d-af28-56646783c6c1",
   "metadata": {},
   "source": [
    "### Ćwiczenie 3: działanie algorytmu BIRCH i grupowania aglomeracyjnego na zbiorze danych blobs"
   ]
  },
  {
   "cell_type": "markdown",
   "id": "1f861aa9-407d-478a-860c-fa7485f79a04",
   "metadata": {},
   "source": [
    "Powtórz analizę dla danych blobs dla klasteryzacji aglomeracyjnej. Zastosuj w pierwszym kroku algorytm BIRCH, a następnie klasteryzację aglomeracyjną. Porównaj wyniki z klasteryzacją aglomeracyjną bez wstępnego grupowania za pomocą BIRCH."
   ]
  },
  {
   "cell_type": "markdown",
   "id": "a4a2c367-62ee-4dee-8891-7eaf29212bdb",
   "metadata": {},
   "source": [
    "## Grupowanie Mini-Batch K-Means"
   ]
  },
  {
   "cell_type": "markdown",
   "id": "6e0cf29f-ff98-4e4d-ab76-72cad6e73bcb",
   "metadata": {},
   "source": [
    "### Przykład 4: porównanie algorytmów K-Means i Mini-Batch K-Means na danych blobs"
   ]
  },
  {
   "cell_type": "markdown",
   "id": "f97a4e2a-709e-4b6a-8bf1-ef0be51d8d95",
   "metadata": {},
   "source": [
    "Dla danych blobs (jak wyżej) porównaj działanie algorytmów K-Means i Mini-Batch K-Means dla liczby klastrów równej 7: \n",
    "    oblicz czasy działania algorytmów i wss znalezionych grupowań. Dla jakiej części obserwacji algorytmy \n",
    "    przyporządkowały je do różnych klastrów?"
   ]
  },
  {
   "cell_type": "markdown",
   "id": "2ee4ec6f-14b2-4aa5-93d3-8ea02886a8b1",
   "metadata": {},
   "source": [
    "https://scikit-learn.org/stable/modules/generated/sklearn.cluster.MiniBatchKMeans.html"
   ]
  },
  {
   "cell_type": "code",
   "execution_count": 9,
   "id": "6a3714e6-b1ab-4b03-974e-1c64c14cf773",
   "metadata": {
    "tags": []
   },
   "outputs": [],
   "source": [
    "X = make_blobs(n_samples = 2000, centers = 7, random_state = 7)[0]"
   ]
  },
  {
   "cell_type": "markdown",
   "id": "92c2811d-fd53-4a27-8a43-d22490766c22",
   "metadata": {},
   "source": [
    "### Ćwiczenie 4: prównanie BIRCH, K-Means i Mini-Batch K-Means"
   ]
  },
  {
   "cell_type": "markdown",
   "id": "2224ee19-6775-4c91-99ae-1186d8735a14",
   "metadata": {},
   "source": [
    "Dla danych blobs z 1 00 000 obserwacji  porównaj działanie algorytmów BIRCH, KMeans i Mini-Batch K-Means dla liczby \n",
    "klastrów równej 100: oblicz czasy działania algorytmów i ARI znalezionych grupowań. Dla algorytmu BIRCH wypróbuj dwie \n",
    "metody grupowania w drugim kroku: aglomeracyjne z metodą Warda oraz k-średnich."
   ]
  },
  {
   "cell_type": "code",
   "execution_count": 11,
   "id": "cf7a3fb9-c365-4633-b398-e7580c33bca1",
   "metadata": {
    "tags": []
   },
   "outputs": [],
   "source": [
    "X, labels = make_blobs(100000, centers = 100, center_box=[0,100], random_state=7)"
   ]
  },
  {
   "cell_type": "markdown",
   "id": "4e0cacdc-8f67-4d94-be5e-a5932425571c",
   "metadata": {
    "tags": []
   },
   "source": [
    "## Ćwiczenie poznanych metod"
   ]
  },
  {
   "cell_type": "markdown",
   "id": "336786a6-17f2-4392-bd90-8e439c62e353",
   "metadata": {},
   "source": [
    "### Ćwiczenie 5: zbiór danych digits"
   ]
  },
  {
   "cell_type": "markdown",
   "id": "7caf11c6-7354-43bf-9f53-71f0bd4f5933",
   "metadata": {},
   "source": [
    "Pogrupuj dane."
   ]
  },
  {
   "cell_type": "markdown",
   "id": "b1ca9860-d7b2-4478-ae2a-a4cbf73b4d8d",
   "metadata": {},
   "source": [
    "https://scikit-learn.org/stable/modules/generated/sklearn.datasets.load_digits.html"
   ]
  },
  {
   "cell_type": "code",
   "execution_count": 12,
   "id": "272c1fb7-1a1f-4062-bdcd-e21b9a2f131e",
   "metadata": {
    "tags": []
   },
   "outputs": [],
   "source": [
    "digits = load_digits()\n",
    "X = digits.data\n",
    "y = digits.target"
   ]
  },
  {
   "cell_type": "code",
   "execution_count": 13,
   "id": "82f73775-3253-4c73-86d4-8fa4d0f6f96b",
   "metadata": {
    "tags": []
   },
   "outputs": [
    {
     "data": {
      "image/png": "[encoded data removed]",
      "text/plain": [
       "<Figure size 480x480 with 1 Axes>"
      ]
     },
     "metadata": {},
     "output_type": "display_data"
    }
   ],
   "source": [
    "plt.matshow(digits.images[0], cmap = 'gray')\n",
    "plt.show()"
   ]
  },
  {
   "cell_type": "markdown",
   "id": "ad081943-f1b8-4806-ab3c-112a3f60697a",
   "metadata": {},
   "source": [
    "## Źródła:"
   ]
  },
  {
   "cell_type": "markdown",
   "id": "39f556a9-842b-46d5-82ba-00e75ed276cc",
   "metadata": {},
   "source": [
    "Hastie, Trevor, et al. The elements of statistical learning: data mining, inference, and prediction. Vol. 2. New York: springer, 2009.\n",
    "\n",
    "Muller, Andreas, et al. Machine learning, Python i data science, Wprowadzenie. Helion, 2021.\n",
    "\n",
    "https://en.wikipedia.org/wiki/Rand_index\n",
    "\n",
    "https://www.geeksforgeeks.org/ml-v-measure-for-evaluating-clustering-performance/\n",
    "\n",
    "https://medium.com/analytics-vidhya/the-ultimate-guide-for-clustering-mixed-data-1eefa0b4743b\n",
    "\n",
    "https://www.coryjmaklin.com/2019-07-01_Machine-Learning--BIRCH-Clustering-Algorithm-Clearly-Explained-fb9838cbeed9/\n",
    "\n",
    "https://www.geeksforgeeks.org/ml-mini-batch-k-means-clustering-algorithm/\n",
    "\n",
    "https://www.kaggle.com/code/ksavleen/handwritten-digit-recognition-kmeans-clustering/notebook\n",
    "\n"
   ]
  },
  {
   "cell_type": "code",
   "execution_count": null,
   "id": "6b8a9fb1-57a7-4d78-a03a-c69170b73978",
   "metadata": {},
   "outputs": [],
   "source": []
  }
 ],
 "metadata": {
  "kernelspec": {
   "display_name": "Python 3 (ipykernel)",
   "language": "python",
   "name": "python3"
  },
  "language_info": {
   "codemirror_mode": {
    "name": "ipython",
    "version": 3
   },
   "file_extension": ".py",
   "mimetype": "text/x-python",
   "name": "python",
   "nbconvert_exporter": "python",
   "pygments_lexer": "ipython3",
   "version": "3.10.9"
  }
 },
 "nbformat": 4,
 "nbformat_minor": 5
}
